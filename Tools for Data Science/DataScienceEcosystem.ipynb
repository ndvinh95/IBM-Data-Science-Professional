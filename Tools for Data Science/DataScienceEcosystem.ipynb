{
  "cells": [
    {
      "cell_type": "markdown",
      "metadata": {
        "id": "A9iz_AARm1Vw"
      },
      "source": [
        "<center>\n",
        "    <img src=\"https://cf-courses-data.s3.us.cloud-object-storage.appdomain.cloud/IBMDeveloperSkillsNetwork-DS0105EN-SkillsNetwork/labs/Module2/images/SN_web_lightmode.png\" width=\"300\" alt=\"cognitiveclass.ai logo\">\n",
        "</center>\n"
      ]
    },
    {
      "cell_type": "markdown",
      "metadata": {
        "id": "-K5L8y-Ym1Vx"
      },
      "source": [
        "#### Add your code below following the instructions given in the course\n"
      ]
    },
    {
      "cell_type": "markdown",
      "metadata": {
        "id": "0ngmEGXQm1Vx"
      },
      "source": [
        "<h1>Data Science Tools and Ecosystem"
      ]
    },
    {
      "cell_type": "markdown",
      "metadata": {
        "id": "H38pBxBym1Vy"
      },
      "source": [
        "<p>In this notebook, Data Science Tools and Ecosystem are summarized."
      ]
    },
    {
      "cell_type": "markdown",
      "source": [
        "<b>Objectives</b>\n",
        "<ul>\n",
        "    <li>List popular languages for Data Science</li>\n",
        "    <li>List commonly used libraries for Data Science</li>\n",
        "    <li>List commonly used tools for Data Science</li>\n",
        "</ul>"
      ],
      "metadata": {
        "id": "wQBLwaFLpy0k"
      }
    },
    {
      "cell_type": "markdown",
      "source": [
        "Some of the popular languages that Data Scientists use are:\n",
        "<ol>\n",
        "    <li>Python</li>\n",
        "    <li>R</li>\n",
        "    <li>Julia</li>\n",
        "    <li>SQL</li>\n",
        "<ol>"
      ],
      "metadata": {
        "id": "XJYJDVEHnmPQ"
      }
    },
    {
      "cell_type": "markdown",
      "source": [
        "Some of the commonly used libraries used by Data Scientists include:\n",
        "<ol>\n",
        "    <li>Tensorflow</li>\n",
        "    <li>PyTorch</li>\n",
        "    <li>Keras</li>\n",
        "    <li>SciKit-Learn</li>\n",
        "</ol>"
      ],
      "metadata": {
        "id": "Fu5K7kAvn-qd"
      }
    },
    {
      "cell_type": "markdown",
      "source": [
        "<table>\n",
        "<tr>\n",
        "<th>Data Science Tools<th>\n",
        "</tr>\n",
        "<tr>\n",
        "<td>RStudio</td>\n",
        "</tr>\n",
        "<tr>\n",
        "<td>Spyder</td>\n",
        "</tr>\n",
        "<tr>\n",
        "<td>Jupyter Notebooks</td>\n",
        "</tr>"
      ],
      "metadata": {
        "id": "8huwfTekoP7k"
      }
    },
    {
      "cell_type": "markdown",
      "source": [
        "<h3>Below are a few examples of evaluating arithmetic expressions in Python"
      ],
      "metadata": {
        "id": "aIptzVqCoq7h"
      }
    },
    {
      "cell_type": "code",
      "source": [
        "# This a simple arithmetic expression to mutiply then add integers\n",
        "(3*4)+5"
      ],
      "metadata": {
        "colab": {
          "base_uri": "https://localhost:8080/"
        },
        "id": "xNcszFX4o4uo",
        "outputId": "29e07966-2f81-4f07-ba4d-6a1bb052e90f"
      },
      "execution_count": 1,
      "outputs": [
        {
          "output_type": "execute_result",
          "data": {
            "text/plain": [
              "17"
            ]
          },
          "metadata": {},
          "execution_count": 1
        }
      ]
    },
    {
      "cell_type": "code",
      "source": [
        "# This will convert 200 minutes to hours by diving by 60\n",
        "min = 200\n",
        "hr = min/60\n",
        "hr"
      ],
      "metadata": {
        "colab": {
          "base_uri": "https://localhost:8080/"
        },
        "id": "mcmmoQPBpCU-",
        "outputId": "a2d7a859-4b28-4f6a-fc34-fdc90039ac77"
      },
      "execution_count": 2,
      "outputs": [
        {
          "output_type": "execute_result",
          "data": {
            "text/plain": [
              "3.3333333333333335"
            ]
          },
          "metadata": {},
          "execution_count": 2
        }
      ]
    },
    {
      "cell_type": "markdown",
      "source": [
        "<h2> Author </h2>\n",
        "<p> Name: Vinh Nguyen </p>"
      ],
      "metadata": {
        "id": "UgUKnDxgqCc1"
      }
    }
  ],
  "metadata": {
    "kernelspec": {
      "display_name": "Python 3",
      "language": "python",
      "name": "python3"
    },
    "language_info": {
      "codemirror_mode": {
        "name": "ipython",
        "version": 3
      },
      "file_extension": ".py",
      "mimetype": "text/x-python",
      "name": "python",
      "nbconvert_exporter": "python",
      "pygments_lexer": "ipython3",
      "version": "3.10.2"
    },
    "colab": {
      "provenance": []
    }
  },
  "nbformat": 4,
  "nbformat_minor": 0
}